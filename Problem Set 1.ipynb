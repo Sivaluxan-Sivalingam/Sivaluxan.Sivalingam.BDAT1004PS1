{
 "cells": [
  {
   "cell_type": "markdown",
   "id": "e1dc5d32",
   "metadata": {},
   "source": [
    "#### Question 1 C#"
   ]
  },
  {
   "cell_type": "markdown",
   "id": "cff30b8c",
   "metadata": {},
   "source": [
    "#### Data Types\n",
    "\n",
    "1. 5 - Integer\n",
    "2. 5.0 - Double\n",
    "3. 5 > 1 - Boolean\n",
    "4. '5' - Character\n",
    "5. 5 * 2 - Integer\n",
    "6. '5' * 2 - String\n",
    "7. '5' + '2' - String\n",
    "8. 5 / 2 - Double \n",
    "9. 5 % 2 - Integer\n",
    "10. {5,2,1} - Array\n",
    "11. 5 == 3 - Boolean\n",
    "12. Pi - Double"
   ]
  },
  {
   "cell_type": "markdown",
   "id": "ffc38f5f",
   "metadata": {},
   "source": [
    "#### Question 2 C#  "
   ]
  },
  {
   "cell_type": "code",
   "execution_count": null,
   "id": "7a8a7783",
   "metadata": {},
   "outputs": [],
   "source": [
    "# a. count the letters \n",
    "string myText = \"Supercalifragilisticexpialidocious\";\n",
    "Console.WriteLine(\"Number of letters: {0}\",myText.Length);\n"
   ]
  },
  {
   "cell_type": "markdown",
   "id": "25b27e0b",
   "metadata": {},
   "source": [
    " Number of letters: 34"
   ]
  },
  {
   "cell_type": "code",
   "execution_count": null,
   "id": "ec4e2fc8",
   "metadata": {},
   "outputs": [],
   "source": [
    "# b. does \"Supercalifragilisticexpialidocious\" containes \"ice\" as a substring\n",
    "bool flag=myText.Contains(\"ice\");\n",
    "Console.WriteLine(\"does {0} contains ice: {1}\",myText,flag);"
   ]
  },
  {
   "cell_type": "markdown",
   "id": "0b602cbf",
   "metadata": {},
   "source": [
    "does Supercalifragilisticexpialidocious contains ice: True"
   ]
  },
  {
   "cell_type": "code",
   "execution_count": null,
   "id": "f25c30be",
   "metadata": {},
   "outputs": [],
   "source": [
    "# c. longest words\n",
    "using System;\n",
    "using System.Collections.Generic;\n",
    "public class Program\n",
    "{\n",
    "    public static void Main()\n",
    "    {\n",
    "        string word1 = \"Supercalifragilisticexpialidocious\";\n",
    "        string word2 = \"Honorificabilitudinitatibus\";\n",
    "        string word3 = \"Bababadalgharaghtakamminarronnkonn\";\n",
    "        \n",
    "        //length of each word\n",
    "        int length1=word1.Length;\n",
    "        int length2=word2.Length;\n",
    "        int length3=word3.Length;\n",
    "        //list to add the longest words\n",
    "        var longestWords = new List<string>();\n",
    "        //maximum length out of 3 words\n",
    "        int longestLength = Math.Max(length1, Math.Max(length2, length3));\n",
    "    \n",
    "        if (length1== longestLength){\n",
    "            longestWords.Add(word1);\n",
    "        }\n",
    "        if (length2==longestLength){\n",
    "            longestWords.Add(word2);\n",
    "        }\n",
    "        if (length3==longestLength){\n",
    "            longestWords.Add(word3);\n",
    "        }\n",
    "\n",
    "        Console.WriteLine(\"Longest words: \");\n",
    "        foreach (string word in longestWords)\n",
    "        {\n",
    "            Console.WriteLine(word);\n",
    "        } \n",
    "    }\n",
    "}"
   ]
  },
  {
   "cell_type": "markdown",
   "id": "cb30388a",
   "metadata": {},
   "source": [
    "Longest words: <br>\n",
    "Supercalifragilisticexpialidocious <br>\n",
    "Bababadalgharaghtakamminarronnkonn"
   ]
  },
  {
   "cell_type": "code",
   "execution_count": null,
   "id": "0f8b2d3c",
   "metadata": {},
   "outputs": [],
   "source": []
  }
 ],
 "metadata": {
  "kernelspec": {
   "display_name": "Python 3 (ipykernel)",
   "language": "python",
   "name": "python3"
  },
  "language_info": {
   "codemirror_mode": {
    "name": "ipython",
    "version": 3
   },
   "file_extension": ".py",
   "mimetype": "text/x-python",
   "name": "python",
   "nbconvert_exporter": "python",
   "pygments_lexer": "ipython3",
   "version": "3.9.13"
  }
 },
 "nbformat": 4,
 "nbformat_minor": 5
}

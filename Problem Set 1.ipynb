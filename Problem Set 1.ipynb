{
 "cells": [
  {
   "cell_type": "markdown",
   "id": "3dda73b4",
   "metadata": {},
   "source": [
    "### Problem Set 1"
   ]
  },
  {
   "cell_type": "markdown",
   "id": "e1dc5d32",
   "metadata": {},
   "source": [
    "#### Question 1 C#\n",
    "\n",
    "Note - I used https://dotnetfiddle.net/ to code C#."
   ]
  },
  {
   "cell_type": "markdown",
   "id": "cff30b8c",
   "metadata": {},
   "source": [
    "#### Data Types\n",
    "\n",
    "1. 5 - Integer\n",
    "2. 5.0 - Double\n",
    "3. 5 > 1 - Boolean\n",
    "4. '5' - Character\n",
    "5. 5 * 2 - Integer\n",
    "6. '5' * 2 - String\n",
    "7. '5' + '2' - String\n",
    "8. 5 / 2 - Double \n",
    "9. 5 % 2 - Integer\n",
    "10. {5,2,1} - Array\n",
    "11. 5 == 3 - Boolean\n",
    "12. Pi - Double"
   ]
  },
  {
   "cell_type": "markdown",
   "id": "ffc38f5f",
   "metadata": {},
   "source": [
    "#### Question 2 C#  "
   ]
  },
  {
   "cell_type": "code",
   "execution_count": null,
   "id": "7a8a7783",
   "metadata": {},
   "outputs": [],
   "source": [
    "# a. count the letters \n",
    "string myText = \"Supercalifragilisticexpialidocious\";\n",
    "Console.WriteLine(\"Number of letters: {0}\",myText.Length);\n"
   ]
  },
  {
   "cell_type": "markdown",
   "id": "25b27e0b",
   "metadata": {},
   "source": [
    " Number of letters: 34"
   ]
  },
  {
   "cell_type": "code",
   "execution_count": null,
   "id": "ec4e2fc8",
   "metadata": {},
   "outputs": [],
   "source": [
    "# b. does \"Supercalifragilisticexpialidocious\" containes \"ice\" as a substring\n",
    "bool flag=myText.Contains(\"ice\");\n",
    "Console.WriteLine(\"does {0} contains ice: {1}\",myText,flag);"
   ]
  },
  {
   "cell_type": "markdown",
   "id": "0b602cbf",
   "metadata": {},
   "source": [
    "does Supercalifragilisticexpialidocious contains ice: True"
   ]
  },
  {
   "cell_type": "code",
   "execution_count": null,
   "id": "f25c30be",
   "metadata": {},
   "outputs": [],
   "source": [
    "# c. longest words\n",
    "using System;\n",
    "using System.Collections.Generic;\n",
    "public class Program\n",
    "{\n",
    "    public static void Main()\n",
    "    {\n",
    "        string word1 = \"Supercalifragilisticexpialidocious\";\n",
    "        string word2 = \"Honorificabilitudinitatibus\";\n",
    "        string word3 = \"Bababadalgharaghtakamminarronnkonn\";\n",
    "        \n",
    "        //length of each word\n",
    "        int length1=word1.Length;\n",
    "        int length2=word2.Length;\n",
    "        int length3=word3.Length;\n",
    "        //list to add the longest words\n",
    "        var longestWords = new List<string>();\n",
    "        //maximum length out of 3 words\n",
    "        int longestLength = Math.Max(length1, Math.Max(length2, length3));\n",
    "    \n",
    "        if (length1== longestLength){\n",
    "            longestWords.Add(word1);\n",
    "        }\n",
    "        if (length2==longestLength){\n",
    "            longestWords.Add(word2);\n",
    "        }\n",
    "        if (length3==longestLength){\n",
    "            longestWords.Add(word3);\n",
    "        }\n",
    "\n",
    "        Console.WriteLine(\"Longest words: \");\n",
    "        foreach (string word in longestWords)\n",
    "        {\n",
    "            Console.WriteLine(word);\n",
    "        } \n",
    "    }\n",
    "}"
   ]
  },
  {
   "cell_type": "markdown",
   "id": "cb30388a",
   "metadata": {},
   "source": [
    "Longest words: <br>\n",
    "Supercalifragilisticexpialidocious <br>\n",
    "Bababadalgharaghtakamminarronnkonn"
   ]
  },
  {
   "cell_type": "code",
   "execution_count": null,
   "id": "b888c9b6",
   "metadata": {},
   "outputs": [],
   "source": [
    "#d. Which composer comes first in the dictionary: 'Berlioz', 'Borodin', 'Brian','Bartok', 'Bellini', 'Buxtehude', 'Bernstein'. Which one comes last?"
   ]
  },
  {
   "cell_type": "markdown",
   "id": "d5f75451",
   "metadata": {},
   "source": [
    "It will come in sorted order. order is determined by comparing characters from left to right in each words. Then 'Bartok' comes first and 'Buxtehude' comes last. </br>\n",
    "If we use different keys to store those words in dictionary, order of composer depends on key value. \n"
   ]
  },
  {
   "cell_type": "markdown",
   "id": "0302fc14",
   "metadata": {},
   "source": [
    "#### Question 3 C#\n",
    "Area of Triangle"
   ]
  },
  {
   "cell_type": "code",
   "execution_count": null,
   "id": "2a06fa3e",
   "metadata": {},
   "outputs": [],
   "source": [
    "using System;\t\t\t\t\n",
    "public class Program\n",
    "{   \n",
    "\t//function triangleArea to side as inputs and returns area of triangle\n",
    "\tpublic static double triangleArea(double a,double b,double c)\n",
    "    {\n",
    "        double s = (a +b + c) /2;\n",
    "\t\tdouble area =  Math.Sqrt(s * (s - a) * (s - b) * (s - c));\n",
    "\t\treturn area;\n",
    "    }\n",
    "\tpublic static void Main()\n",
    "\t{   \n",
    "\t\tdouble area=triangleArea(2,2,2);\n",
    "\t\tConsole.WriteLine(\"Area of triangle: {0}\", area);\n",
    "\t}\n",
    "\t\n",
    "}"
   ]
  },
  {
   "cell_type": "markdown",
   "id": "561afba4",
   "metadata": {},
   "source": [
    "Area of triangle: 1.73205080756888"
   ]
  },
  {
   "cell_type": "markdown",
   "id": "2a9abac9",
   "metadata": {},
   "source": [
    "#### Question 4 C#"
   ]
  },
  {
   "cell_type": "markdown",
   "id": "eb086c34",
   "metadata": {},
   "source": [
    "Getting input elements from user , and find odd and even elements"
   ]
  },
  {
   "cell_type": "code",
   "execution_count": null,
   "id": "0c67da59",
   "metadata": {},
   "outputs": [],
   "source": [
    "using System;\t\t\t\t\n",
    "public class Program\n",
    "{   \n",
    "\tpublic static void Main()\n",
    "\t{   \n",
    "\t\t\n",
    "\t\tConsole.WriteLine(\"Input the number of elements to be stored in the array:\");\n",
    "\t\t//getting number of elements as user input\n",
    "        int numElement = int.Parse(Console.ReadLine());\n",
    "\n",
    "        int[] numberArray = new int[numElement];\n",
    "\n",
    "        Console.WriteLine(\"Input {0} elements in the array:\", numElement);\n",
    "\t\t\n",
    "\t\t//getting elements as user input\n",
    "\t\tfor (int i = 0; i < numElement; i++)\n",
    "        {\n",
    "            Console.Write(\"element - {0} : \",i);\n",
    "            numberArray[i] = int.Parse(Console.ReadLine());\n",
    "        }\n",
    "\t\t// two arrays for odd and even numbers\n",
    "\t\tint[] evenArray = new int[numElement];\n",
    "        int[] oddArray = new int[numElement];\n",
    "\t\t\n",
    "\t\t//assign values for even count and odd count\n",
    "\t\tint even = 0;\n",
    "        int odd = 0;\n",
    "\t\t\n",
    "\t\t//for loop to create even and odd Arrays\n",
    "\t\tfor (int i=0; i<numElement;i++){\n",
    "\t\t\tif (numberArray[i]%2==0){\n",
    "\t\t\t\tevenArray[even++]=numberArray[i];\n",
    "\t\t\t}\n",
    "\t\t\telse {\n",
    "\t\t\t\toddArray[odd++]=numberArray[i];\n",
    "\t\t\t}\n",
    "\t\t}\n",
    "\t\t\n",
    "\t\t// loop to display even array elements\n",
    "        Console.Write(\"The Even elements are: \");\n",
    "        for (int i = 0; i < even; i++)\n",
    "        {\n",
    "            Console.Write(\"{0} \",evenArray[i]);\n",
    "        }\n",
    "\n",
    "        // loop to display odd array elements\n",
    "        Console.Write(\"\\nThe Odd elements are : \");\n",
    "        for (int i = 0; i < odd; i++)\n",
    "        {\n",
    "            Console.Write(\"{0} \",oddArray[i]);\n",
    "        }\n",
    "\n",
    "\t}\n",
    "\t\n",
    "}"
   ]
  },
  {
   "cell_type": "markdown",
   "id": "da1aed99",
   "metadata": {},
   "source": [
    "Input the number of elements to be stored in the array:</br>\n",
    "5</br>\n",
    "Input 5 elements in the array: </br>\n",
    "element - 0 : 25 </br>\n",
    "element - 1 : 47 </br>\n",
    "element - 2 : 42 </br>\n",
    "element - 3 : 56 </br>\n",
    "element - 4 : 32 </br>\n",
    "The Even elements are: 42 56 32 </br>\n",
    "The Odd elements are : 25 47 </br>"
   ]
  },
  {
   "cell_type": "markdown",
   "id": "e80f07b0",
   "metadata": {},
   "source": [
    "#### Question 5 C#"
   ]
  },
  {
   "cell_type": "markdown",
   "id": "8de319a9",
   "metadata": {},
   "source": [
    "check a point inside a triangle"
   ]
  },
  {
   "cell_type": "code",
   "execution_count": null,
   "id": "706c3f7d",
   "metadata": {},
   "outputs": [],
   "source": [
    "#a. \n",
    "using System;\t\t\t\t\n",
    "public class Program\n",
    "{   \n",
    "    // funtion to return whether point that lies inside rectagle\n",
    "\tstatic bool inside(int x, int y, int x1, int y1, int x2, int y2)\n",
    "    {\n",
    "        return x >= x1 && x <= x2 && y >= y1 && y <= y2;\n",
    "    }\n",
    "\tpublic static void Main()\n",
    "\t{   \n",
    "\t\tConsole.Write(\"inside(1,1,0,0,2,3) : \");\n",
    "\t\tConsole.WriteLine(inside(1,1,0,0,2,3));\n",
    "\t\tConsole.Write(\"inside(-1,-1,0,0,2,3) : \");\n",
    "\t\tConsole.WriteLine(inside(-1,-1,0,0,2,3));\n",
    "\t}\n",
    "\t\n",
    "}"
   ]
  },
  {
   "cell_type": "markdown",
   "id": "e5a2e966",
   "metadata": {},
   "source": [
    "inside(1,1,0,0,2,3) : True </br>\n",
    "inside(-1,-1,0,0,2,3) : False"
   ]
  },
  {
   "cell_type": "code",
   "execution_count": null,
   "id": "b984706c",
   "metadata": {},
   "outputs": [],
   "source": [
    "#b.\n",
    "using System;\t\t\t\t\n",
    "public class Program\n",
    "{   \n",
    "    // funtion to retun whether point that lies inside rectangle\n",
    "\tstatic bool inside(double x, double y, double x1, double y1, double x2, double y2)\n",
    "    {\n",
    "        return x >= x1 && x <= x2 && y >= y1 && y <= y2;\n",
    "    }\n",
    "\tpublic static void Main()\n",
    "\t{   \n",
    "\t\tConsole.Write(\"inside(1,1,0.3,0.5,1.1,0.7) : \");\n",
    "\t\tConsole.WriteLine(inside(1,1,0.3,0.5,1.1,0.7));\n",
    "\t\tConsole.Write(\"inside(1,1,0.5,0.2,1.1,2) : \");\n",
    "\t\tConsole.WriteLine(inside(1,1,0.5,0.2,1.1,2));\n",
    "\t}\n",
    "\t\n",
    "}\n"
   ]
  },
  {
   "cell_type": "markdown",
   "id": "01385be9",
   "metadata": {},
   "source": [
    "inside(1,1,0.3,0.5,1.1,0.7) : False </br>\n",
    "inside(1,1,0.5,0.2,1.1,2) : True"
   ]
  },
  {
   "cell_type": "markdown",
   "id": "e52c9a75",
   "metadata": {},
   "source": [
    "#### Question 6 Python"
   ]
  },
  {
   "cell_type": "code",
   "execution_count": 101,
   "id": "06ed4501",
   "metadata": {},
   "outputs": [
    {
     "name": "stdout",
     "output_type": "stream",
     "text": [
      "apphay\n",
      "enterway\n"
     ]
    }
   ],
   "source": [
    "#function to get word as input arguments and return pig-laten word as output\n",
    "def pig(word):\n",
    "    output=\"\" #empty output string\n",
    "    #if condition to check first letter of word is not consonant\n",
    "    if word[0] in ('a','e','i','o','u','A','E','I','O','U'): \n",
    "        output=word+\"way\"    \n",
    "    else:\n",
    "        output=word[1:-1]+word[0]+\"ay\"\n",
    "    return output.lower()  #change output to lowercase and return\n",
    "print(pig(\"happy\"))\n",
    "print(pig(\"Enter\"))"
   ]
  },
  {
   "cell_type": "markdown",
   "id": "954cf4aa",
   "metadata": {},
   "source": [
    "#### Question 7 Python"
   ]
  },
  {
   "cell_type": "code",
   "execution_count": 102,
   "id": "2adc1326",
   "metadata": {},
   "outputs": [
    {
     "name": "stdout",
     "output_type": "stream",
     "text": [
      "There are 15 patients of blood type A.\n",
      "There are one patients of blood type B.\n",
      "There are 13 patients of blood type AB.\n",
      "There are 15 patients of blood type 0.\n",
      "There are no patients of blood type OO.\n"
     ]
    }
   ],
   "source": [
    "def bldcount(fileName):\n",
    "    bloodtypeFile=open(fileName,'r')  # read the currencies.txt file in read mode\n",
    "    linesList = bloodtypeFile.readlines() #create linesList by read eacg lines\n",
    "    bloodtypeList=linesList[0][0:-2].split(\" \") #list of blood types. string is splitted using \" \".\n",
    "    \n",
    "    #assign each blood count to 0\n",
    "    A_count=0\n",
    "    B_count=0\n",
    "    AB_count=0\n",
    "    O_count=0\n",
    "    OO_count=0\n",
    "    \n",
    "    #for loop count each blood types\n",
    "    for i in bloodtypeList:\n",
    "        if i=='A':\n",
    "            A_count+=1\n",
    "        elif i=='B':\n",
    "            B_count+=1\n",
    "        elif i=='AB':\n",
    "            AB_count+=1\n",
    "        elif i=='O':\n",
    "            O_count+=1\n",
    "        else:\n",
    "            OO_count+=1\n",
    "            \n",
    "    #differentiate 0, 1 and other count types  and returns suitable value\n",
    "    def countType(count):\n",
    "        if count ==0:\n",
    "            count=\"no\"\n",
    "        elif count ==1:\n",
    "            count=\"one\"\n",
    "        else:\n",
    "            count=count\n",
    "        return count\n",
    "    \n",
    "    #print to display all the blood type counts\n",
    "    print(f\"There are {countType(A_count)} patients of blood type A.\")\n",
    "    print(f\"There are {countType(B_count)} patients of blood type B.\")\n",
    "    print(f\"There are {countType(AB_count)} patients of blood type AB.\")\n",
    "    print(f\"There are {countType(O_count)} patients of blood type 0.\")\n",
    "    print(f\"There are {countType(OO_count)} patients of blood type OO.\")\n",
    "    \n",
    "    bloodtypeFile.close()\n",
    "bldcount('bloodtype1.txt')"
   ]
  },
  {
   "cell_type": "markdown",
   "id": "f4b8ef59",
   "metadata": {},
   "source": [
    "#### Question 8 Python\n",
    "\n",
    "currency converter"
   ]
  },
  {
   "cell_type": "code",
   "execution_count": 103,
   "id": "cb216db4",
   "metadata": {},
   "outputs": [
    {
     "name": "stdout",
     "output_type": "stream",
     "text": [
      "122.96544\n",
      "1.241401\n"
     ]
    }
   ],
   "source": [
    "currency_file=open('currencies.txt','r')  # read the currencies.txt file in read mode\n",
    "linesList = currency_file.readlines()     #read each lines of file and create a linesList\n",
    "#function curconv to get currency and amount as input and returns converted output amount\n",
    "def curconv(currency,amount):\n",
    "    #for loop to iterate through linesList\n",
    "    for i in range(len(linesList)):\n",
    "        #split each element in linesList using \" \"\n",
    "        iList=linesList[i].split(\" \")\n",
    "        curr=iList[0]\n",
    "        output_amount=0\n",
    "        #check currency is equal to curr that got from linesList\n",
    "        if curr==currency:\n",
    "            #find converted amount\n",
    "            output_amount=amount*float(iList[1])\n",
    "        #otherwise continue the loop \n",
    "        else:\n",
    "            continue\n",
    "        return output_amount\n",
    "currency_file.close()\n",
    "print(curconv('EUR', 100))\n",
    "print(curconv('JPY',100))\n"
   ]
  },
  {
   "cell_type": "markdown",
   "id": "ae1ddc4e",
   "metadata": {},
   "source": [
    "#### Question 9 Python"
   ]
  },
  {
   "cell_type": "code",
   "execution_count": 104,
   "id": "fd2710ef",
   "metadata": {},
   "outputs": [
    {
     "ename": "TypeError",
     "evalue": "unsupported operand type(s) for +: 'int' and 'str'",
     "output_type": "error",
     "traceback": [
      "\u001b[0;31m---------------------------------------------------------------------------\u001b[0m",
      "\u001b[0;31mTypeError\u001b[0m                                 Traceback (most recent call last)",
      "Input \u001b[0;32mIn [104]\u001b[0m, in \u001b[0;36m<cell line: 1>\u001b[0;34m()\u001b[0m\n\u001b[0;32m----> 1\u001b[0m \u001b[38;5;241;43m6\u001b[39;49m\u001b[38;5;241;43m+\u001b[39;49m\u001b[38;5;124;43m'\u001b[39;49m\u001b[38;5;124;43ma\u001b[39;49m\u001b[38;5;124;43m'\u001b[39;49m\n",
      "\u001b[0;31mTypeError\u001b[0m: unsupported operand type(s) for +: 'int' and 'str'"
     ]
    }
   ],
   "source": [
    "6+'a'"
   ]
  },
  {
   "cell_type": "code",
   "execution_count": 105,
   "id": "79507f69",
   "metadata": {},
   "outputs": [
    {
     "name": "stdout",
     "output_type": "stream",
     "text": [
      "10\n"
     ]
    },
    {
     "ename": "IndexError",
     "evalue": "list index out of range",
     "output_type": "error",
     "traceback": [
      "\u001b[0;31m---------------------------------------------------------------------------\u001b[0m",
      "\u001b[0;31mIndexError\u001b[0m                                Traceback (most recent call last)",
      "Input \u001b[0;32mIn [105]\u001b[0m, in \u001b[0;36m<cell line: 3>\u001b[0;34m()\u001b[0m\n\u001b[1;32m      1\u001b[0m sampleList\u001b[38;5;241m=\u001b[39m[\u001b[38;5;241m3\u001b[39m,\u001b[38;5;124m'\u001b[39m\u001b[38;5;124mapple\u001b[39m\u001b[38;5;124m'\u001b[39m,\u001b[38;5;241m2\u001b[39m,\u001b[38;5;241m1\u001b[39m,\u001b[38;5;124m'\u001b[39m\u001b[38;5;124mboy\u001b[39m\u001b[38;5;124m'\u001b[39m,\u001b[38;5;124m'\u001b[39m\u001b[38;5;124mengineer\u001b[39m\u001b[38;5;124m'\u001b[39m,\u001b[38;5;241m26\u001b[39m,\u001b[38;5;124m'\u001b[39m\u001b[38;5;124mdata\u001b[39m\u001b[38;5;124m'\u001b[39m,\u001b[38;5;124m'\u001b[39m\u001b[38;5;124mGC\u001b[39m\u001b[38;5;124m'\u001b[39m,\u001b[38;5;124m'\u001b[39m\u001b[38;5;124mbus\u001b[39m\u001b[38;5;124m'\u001b[39m]\n\u001b[1;32m      2\u001b[0m \u001b[38;5;28mprint\u001b[39m(\u001b[38;5;28mlen\u001b[39m(sampleList))\n\u001b[0;32m----> 3\u001b[0m \u001b[38;5;28mprint\u001b[39m(\u001b[43msampleList\u001b[49m\u001b[43m[\u001b[49m\u001b[38;5;241;43m11\u001b[39;49m\u001b[43m]\u001b[49m)\n",
      "\u001b[0;31mIndexError\u001b[0m: list index out of range"
     ]
    }
   ],
   "source": [
    "sampleList=[3,'apple',2,1,'boy','engineer',26,'data','GC','bus']\n",
    "print(len(sampleList))\n",
    "print(sampleList[11]) #python indexing is start from 0. 12 items of list means 11th index element"
   ]
  },
  {
   "cell_type": "code",
   "execution_count": 106,
   "id": "4b9ebd98",
   "metadata": {},
   "outputs": [
    {
     "ename": "ValueError",
     "evalue": "math domain error",
     "output_type": "error",
     "traceback": [
      "\u001b[0;31m---------------------------------------------------------------------------\u001b[0m",
      "\u001b[0;31mValueError\u001b[0m                                Traceback (most recent call last)",
      "Input \u001b[0;32mIn [106]\u001b[0m, in \u001b[0;36m<cell line: 2>\u001b[0;34m()\u001b[0m\n\u001b[1;32m      1\u001b[0m \u001b[38;5;28;01mimport\u001b[39;00m \u001b[38;5;21;01mmath\u001b[39;00m\n\u001b[0;32m----> 2\u001b[0m \u001b[38;5;28mprint\u001b[39m(\u001b[43mmath\u001b[49m\u001b[38;5;241;43m.\u001b[39;49m\u001b[43msqrt\u001b[49m\u001b[43m(\u001b[49m\u001b[38;5;241;43m-\u001b[39;49m\u001b[38;5;241;43m1.0\u001b[39;49m\u001b[43m)\u001b[49m)\n",
      "\u001b[0;31mValueError\u001b[0m: math domain error"
     ]
    }
   ],
   "source": [
    "import math\n",
    "print(math.sqrt(-1.0))"
   ]
  },
  {
   "cell_type": "code",
   "execution_count": 107,
   "id": "d64931c1",
   "metadata": {},
   "outputs": [
    {
     "ename": "FileNotFoundError",
     "evalue": "[Errno 2] No such file or directory: 'currenc.txt'",
     "output_type": "error",
     "traceback": [
      "\u001b[0;31m---------------------------------------------------------------------------\u001b[0m",
      "\u001b[0;31mFileNotFoundError\u001b[0m                         Traceback (most recent call last)",
      "Input \u001b[0;32mIn [107]\u001b[0m, in \u001b[0;36m<cell line: 1>\u001b[0;34m()\u001b[0m\n\u001b[0;32m----> 1\u001b[0m currency_file\u001b[38;5;241m=\u001b[39m\u001b[38;5;28;43mopen\u001b[39;49m\u001b[43m(\u001b[49m\u001b[38;5;124;43m\"\u001b[39;49m\u001b[38;5;124;43mcurrenc.txt\u001b[39;49m\u001b[38;5;124;43m\"\u001b[39;49m\u001b[43m)\u001b[49m\n",
      "\u001b[0;31mFileNotFoundError\u001b[0m: [Errno 2] No such file or directory: 'currenc.txt'"
     ]
    }
   ],
   "source": [
    "currency_file=open(\"currenc.txt\")   #currenc.txt file is not there"
   ]
  },
  {
   "cell_type": "markdown",
   "id": "42c03643",
   "metadata": {},
   "source": [
    "#### Question 10 Python\n",
    "\n",
    "Encryption"
   ]
  },
  {
   "cell_type": "code",
   "execution_count": 108,
   "id": "1ecc9677",
   "metadata": {},
   "outputs": [
    {
     "name": "stdout",
     "output_type": "stream",
     "text": [
      "[1, 1, 1, 3, 5, 1, 1, 2, 1, 0, 1, 0, 1, 2, 4, 0, 1, 2, 0, 3, 1, 0, 1, 1, 0, 0]\n",
      "[1, 0, 0, 0, 1, 0, 0, 0, 0, 0, 0, 1, 0, 0, 0, 2, 0, 0, 0, 0, 0, 0, 0, 0, 0, 0]\n"
     ]
    }
   ],
   "source": [
    "#function frequecies to get word as input and return a list of frequencies of each aplahabet characters in that word.\n",
    "def frequencies(word):\n",
    "    word=word.lower() #change word into lowercase\n",
    "    charCount={} #dictionary to store character count\n",
    "    for char in word:\n",
    "        charCount[char]=charCount.get(char, 0) + 1 #increment character count\n",
    "    \n",
    "    #create a list - count of each character in alphabet\n",
    "    outputList=[] \n",
    "    for i in range(26):\n",
    "        #append each character count to outputList\n",
    "        outputList.append(charCount.get(chr(ord('a') + i), 0))\n",
    "    return outputList\n",
    "print(frequencies('The quick red fox got bored and went home.'))\n",
    "print(frequencies('Apple'))"
   ]
  },
  {
   "cell_type": "markdown",
   "id": "68e7ca45",
   "metadata": {},
   "source": [
    "### END"
   ]
  },
  {
   "cell_type": "code",
   "execution_count": null,
   "id": "987fbabc",
   "metadata": {},
   "outputs": [],
   "source": []
  }
 ],
 "metadata": {
  "kernelspec": {
   "display_name": "Python 3 (ipykernel)",
   "language": "python",
   "name": "python3"
  },
  "language_info": {
   "codemirror_mode": {
    "name": "ipython",
    "version": 3
   },
   "file_extension": ".py",
   "mimetype": "text/x-python",
   "name": "python",
   "nbconvert_exporter": "python",
   "pygments_lexer": "ipython3",
   "version": "3.9.13"
  }
 },
 "nbformat": 4,
 "nbformat_minor": 5
}
